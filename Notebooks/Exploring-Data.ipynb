{
  "nbformat": 4,
  "nbformat_minor": 0,
  "metadata": {
    "colab": {
      "name": "Exploring Data.ipynb",
      "provenance": [],
      "toc_visible": true
    },
    "kernelspec": {
      "name": "python3",
      "display_name": "Python 3"
    },
    "accelerator": "GPU"
  },
  "cells": [
    {
      "cell_type": "markdown",
      "metadata": {
        "id": "ut8QjqWa3Co8",
        "colab_type": "text"
      },
      "source": [
        "# 🐵 Face Expression Classification\n",
        "\n",
        "[Face Expression Classification - Repo | officialpm](https://github.com/officialpm/Face-Expression-Classification-CNN)\n",
        "\n",
        "####**`💚 Developed by`** [Parth Maniar](https://github.com/officialpm)\n",
        "\n",
        "\n",
        "\n",
        "\n",
        "\n",
        "<a href=\"https://github.com/officialpm\">\n",
        "  <img align=\"left\" alt=\"Github\" width=\"18px\"  src=\"https://cdn.jsdelivr.net/npm/simple-icons@v3/icons/github.svg\" />\n",
        "</a>\n",
        "<a href=\"https://twitter.com/parthcodes\">\n",
        "  <img   align=\"left\" alt=\"Parth | Twitter\" width=\"18px\"  src=\"https://cdn.jsdelivr.net/npm/simple-icons@v3/icons/twitter.svg\" />\n",
        "</a>\n",
        "<a  href=\"https://www.linkedin.com/in/parthdmaniar/\">\n",
        "  <img align=\"left\" alt=\"Parth's LinkdeIn\" width=\"18px\" src=\"https://cdn.jsdelivr.net/npm/simple-icons@v3/icons/linkedin.svg\" />\n",
        "</a>\n",
        "<a href=\"https://t.me/parthmaniar\">\n",
        "  <img align=\"left\" alt=\"Parth's Telegram\" width=\"18px\" src=\"https://cdn.jsdelivr.net/npm/simple-icons@v3/icons/telegram.svg\" />\n",
        "</a>\n",
        "<a href=\"https://www.instagram.com/parthroxx/\">\n",
        "  <img align=\"left\" alt=\"Parth's Instagram\" width=\"18px\" src=\"https://cdn.jsdelivr.net/npm/simple-icons@v3/icons/instagram.svg\" />\n",
        "</a>\n",
        "\n",
        "<br/>\n",
        "\n",
        "\n",
        "\n",
        "---\n",
        "\n",
        "\n",
        "## `• Problem`\n",
        "\n",
        "Identifying the face expression of a human, given an image of him/her.\n",
        "\n",
        "## `• Data`\n",
        "  \n",
        "Data is taken from Kaggle's Facial Expression Recognition Challenge:\n",
        "https://www.kaggle.com/c/challenges-in-representation-learning-facial-expression-recognition-challenge/data\n",
        "\n",
        "* Dataset has `7 classes` (emotions).\n",
        "  * 0 -> Angry\n",
        "  * 1 -> Disgust\n",
        "  * 2 -> Fear\n",
        "  * 3 -> Happy\n",
        "  * 4 -> Sad\n",
        "  * 5 -> Surprise\n",
        "  * 6 -> Neutral"
      ]
    },
    {
      "cell_type": "markdown",
      "metadata": {
        "id": "xnfZb0H4LkjV",
        "colab_type": "text"
      },
      "source": [
        "## Initializing"
      ]
    },
    {
      "cell_type": "code",
      "metadata": {
        "id": "BIGli3dGJAhg",
        "colab_type": "code",
        "colab": {
          "base_uri": "https://localhost:8080/",
          "height": 486
        },
        "outputId": "38d54362-d047-411b-b809-5f4aac6c6688"
      },
      "source": [
        "!sudo apt-get install git-lfs"
      ],
      "execution_count": 1,
      "outputs": [
        {
          "output_type": "stream",
          "text": [
            "Reading package lists... Done\n",
            "Building dependency tree       \n",
            "Reading state information... Done\n",
            "The following package was automatically installed and is no longer required:\n",
            "  libnvidia-common-440\n",
            "Use 'sudo apt autoremove' to remove it.\n",
            "The following NEW packages will be installed:\n",
            "  git-lfs\n",
            "0 upgraded, 1 newly installed, 0 to remove and 35 not upgraded.\n",
            "Need to get 2,129 kB of archives.\n",
            "After this operation, 7,662 kB of additional disk space will be used.\n",
            "Get:1 http://archive.ubuntu.com/ubuntu bionic/universe amd64 git-lfs amd64 2.3.4-1 [2,129 kB]\n",
            "Fetched 2,129 kB in 1s (1,501 kB/s)\n",
            "debconf: unable to initialize frontend: Dialog\n",
            "debconf: (No usable dialog-like program is installed, so the dialog based frontend cannot be used. at /usr/share/perl5/Debconf/FrontEnd/Dialog.pm line 76, <> line 1.)\n",
            "debconf: falling back to frontend: Readline\n",
            "debconf: unable to initialize frontend: Readline\n",
            "debconf: (This frontend requires a controlling tty.)\n",
            "debconf: falling back to frontend: Teletype\n",
            "dpkg-preconfigure: unable to re-open stdin: \n",
            "Selecting previously unselected package git-lfs.\n",
            "(Reading database ... 144487 files and directories currently installed.)\n",
            "Preparing to unpack .../git-lfs_2.3.4-1_amd64.deb ...\n",
            "Unpacking git-lfs (2.3.4-1) ...\n",
            "Setting up git-lfs (2.3.4-1) ...\n",
            "Processing triggers for man-db (2.8.3-2ubuntu0.1) ...\n"
          ],
          "name": "stdout"
        }
      ]
    },
    {
      "cell_type": "code",
      "metadata": {
        "id": "yEJK8QMxxQHP",
        "colab_type": "code",
        "colab": {}
      },
      "source": [
        "!git-lfs clone https://github.com/officialpm/Face-Expression-Classification-CNN"
      ],
      "execution_count": null,
      "outputs": []
    },
    {
      "cell_type": "code",
      "metadata": {
        "id": "qANFZZf9J_-X",
        "colab_type": "code",
        "colab": {}
      },
      "source": [
        "import tensorflow as tf\n",
        "import keras\n",
        "import numpy as np\n",
        "import pandas as pd\n",
        "import matplotlib.pyplot as plt\n",
        "import cv2\n",
        "\n",
        "base_path = \"Face-Expression-Classification-CNN\"\n",
        "%matplotlib inline"
      ],
      "execution_count": null,
      "outputs": []
    },
    {
      "cell_type": "markdown",
      "metadata": {
        "id": "G0_6chisN9aR",
        "colab_type": "text"
      },
      "source": [
        "## Exploring data"
      ]
    },
    {
      "cell_type": "code",
      "metadata": {
        "id": "5HpUapNGODVv",
        "colab_type": "code",
        "colab": {}
      },
      "source": [
        "# Loading Data\n",
        "raw_df = pd.read_csv(f\"{base_path}/Data/fer2013.csv\")\n",
        "raw_df.head(2)"
      ],
      "execution_count": null,
      "outputs": []
    },
    {
      "cell_type": "code",
      "metadata": {
        "id": "sZJ07hvDQRTu",
        "colab_type": "code",
        "colab": {}
      },
      "source": [
        "# Number of columns\n",
        "raw_df.columns"
      ],
      "execution_count": null,
      "outputs": []
    },
    {
      "cell_type": "code",
      "metadata": {
        "id": "Wig8DSiLQcms",
        "colab_type": "code",
        "colab": {}
      },
      "source": [
        "# Total number of records and their data_types\n",
        "raw_df.info()"
      ],
      "execution_count": null,
      "outputs": []
    },
    {
      "cell_type": "code",
      "metadata": {
        "id": "MRtb5NXNSOEU",
        "colab_type": "code",
        "colab": {}
      },
      "source": [
        "# Total number of unique classes\n",
        "raw_df[\"emotion\"].value_counts()"
      ],
      "execution_count": null,
      "outputs": []
    },
    {
      "cell_type": "code",
      "metadata": {
        "id": "fZbow61GSuIf",
        "colab_type": "code",
        "colab": {}
      },
      "source": [
        "# Training images:\n",
        "raw_df[raw_df['Usage'] == \"Training\"]"
      ],
      "execution_count": null,
      "outputs": []
    },
    {
      "cell_type": "code",
      "metadata": {
        "id": "CnU3LIfdYP1N",
        "colab_type": "code",
        "colab": {}
      },
      "source": [
        "# Test Images:\n",
        "raw_df[raw_df[\"Usage\"] == \"PrivateTest\"]"
      ],
      "execution_count": null,
      "outputs": []
    },
    {
      "cell_type": "code",
      "metadata": {
        "id": "wzqFsOlvYcr0",
        "colab_type": "code",
        "colab": {}
      },
      "source": [
        "# Total unique values in Usage column\n",
        "raw_df[\"Usage\"].value_counts()"
      ],
      "execution_count": null,
      "outputs": []
    },
    {
      "cell_type": "code",
      "metadata": {
        "id": "FIUMo-7PZY-Y",
        "colab_type": "code",
        "colab": {}
      },
      "source": [
        "# Distribution of various emotions in the dataset\n",
        "x_labels = ['Angry', 'Disgust', 'Fear', 'Happy', 'Sad', 'Surprise', 'Neutral']\n",
        "plt.figure(figsize=(10,5))\n",
        "ax = raw_df[\"emotion\"].value_counts().plot(kind='bar')\n",
        "ax.set_xticklabels(x_labels);\n",
        "ax.tick_params(axis='x', rotation=45)\n",
        "ax.tick_params(axis='y')"
      ],
      "execution_count": null,
      "outputs": []
    }
  ]
}