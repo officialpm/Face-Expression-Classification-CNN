{
  "nbformat": 4,
  "nbformat_minor": 0,
  "metadata": {
    "colab": {
      "name": "Face-Expression-Classification v2",
      "provenance": [],
      "collapsed_sections": [
        "HVvoT-rgRfzS",
        "KJ7j8VxXv1jL",
        "niuAbpGVRWSW",
        "JSuTd2MfZiKS",
        "bIBSIRrwaz77",
        "k6CfRG9L6rEo"
      ]
    },
    "kernelspec": {
      "name": "python3",
      "display_name": "Python 3"
    },
    "accelerator": "GPU"
  },
  "cells": [
    {
      "cell_type": "markdown",
      "metadata": {
        "id": "IkFcLCc6-kTd",
        "colab_type": "text"
      },
      "source": [
        "# 🐵 Face Expression Classification\n",
        "\n",
        "[Face Expression Classification - Repo | officialpm](https://github.com/officialpm/Face-Expression-Classification-CNN)\n",
        "\n",
        "####**`💚 Developed by`** [Parth Maniar](https://github.com/officialpm)\n",
        "\n",
        "<div>\n",
        "<a href=\"https://twitter.com/parthcodes\">\n",
        "  <img   align=\"left\" alt=\"Parth | Twitter\" width=\"22px\"  src=\"https://cdn.jsdelivr.net/npm/simple-icons@v3/icons/twitter.svg\" />\n",
        "</a>\n",
        "<a href=\"https://www.linkedin.com/in/parthdmaniar/\">\n",
        "  <img align=\"left\" alt=\"Parth's LinkdeIn\" width=\"22px\" src=\"https://cdn.jsdelivr.net/npm/simple-icons@v3/icons/linkedin.svg\" />\n",
        "</a>\n",
        "<a href=\"https://t.me/parthmaniar\">\n",
        "  <img align=\"left\" alt=\"Parth's Telegram\" width=\"22px\" src=\"https://cdn.jsdelivr.net/npm/simple-icons@v3/icons/telegram.svg\" />\n",
        "</a>\n",
        "<a href=\"https://www.instagram.com/parthroxx/\">\n",
        "  <img align=\"left\" alt=\"Parth's Instagram\" width=\"22px\" src=\"https://cdn.jsdelivr.net/npm/simple-icons@v3/icons/instagram.svg\" />\n",
        "</a>\n",
        "</div>\n",
        "<br/>\n",
        "\n",
        "\n",
        "---\n",
        "\n",
        "\n",
        "## `• Problem`\n",
        "\n",
        "Identifying the face expression of a human, given an image of him/her.\n",
        "\n",
        "## `• Data`\n",
        "  \n",
        "Data is taken from Kaggle's Facial Expression Recognition Challenge:\n",
        "https://www.kaggle.com/c/challenges-in-representation-learning-facial-expression-recognition-challenge/data\n",
        "\n",
        "\n",
        "## `• Evaluation`\n",
        "\n",
        "Evaluation is done based on accuracy and loss between predicted expression and actual expression.\n",
        "\n",
        "## `• Features`\n",
        "\n",
        "Some information about the data:\n",
        "* We're dealing with images(unstructured data), so its better we use deep learning / transfer learning.\n",
        "* Dataset has **3** columns namely emotions, picture, and usage(Training/Testing).\n",
        "* Dataset has **35887** rows(images).\n",
        "* There are **28709** training images (with column value as Training).\n",
        "* There are **3589** testing images (with column value as PublicTest).\n",
        "* Dataset has **7 classes** (emotions).\n",
        "  * 0 -> Angry\n",
        "  * 1 -> Disgust\n",
        "  * 2 -> Fear\n",
        "  * 3 -> Happy\n",
        "  * 4 -> Sad\n",
        "  * 5 -> Surprise\n",
        "  * 6 -> Neutral\n"
      ]
    },
    {
      "cell_type": "markdown",
      "metadata": {
        "id": "xnfZb0H4LkjV",
        "colab_type": "text"
      },
      "source": [
        "## Initializing"
      ]
    },
    {
      "cell_type": "code",
      "metadata": {
        "id": "RY5aHBDLREoI",
        "colab_type": "code",
        "colab": {
          "base_uri": "https://localhost:8080/",
          "height": 486
        },
        "outputId": "81c782f7-8a02-4e0d-8deb-035406ff1ba1"
      },
      "source": [
        "!sudo apt-get install git-lfs"
      ],
      "execution_count": 1,
      "outputs": [
        {
          "output_type": "stream",
          "text": [
            "\rReading package lists... 0%\r\rReading package lists... 0%\r\rReading package lists... 0%\r\rReading package lists... 6%\r\rReading package lists... 6%\r\rReading package lists... 6%\r\rReading package lists... 6%\r\rReading package lists... 61%\r\rReading package lists... 61%\r\rReading package lists... 61%\r\rReading package lists... 61%\r\rReading package lists... 66%\r\rReading package lists... 69%\r\rReading package lists... 69%\r\rReading package lists... 70%\r\rReading package lists... 70%\r\rReading package lists... 79%\r\rReading package lists... 79%\r\rReading package lists... 80%\r\rReading package lists... 80%\r\rReading package lists... 80%\r\rReading package lists... 80%\r\rReading package lists... 80%\r\rReading package lists... 80%\r\rReading package lists... 86%\r\rReading package lists... 86%\r\rReading package lists... 87%\r\rReading package lists... 87%\r\rReading package lists... 92%\r\rReading package lists... 92%\r\rReading package lists... 92%\r\rReading package lists... 92%\r\rReading package lists... 93%\r\rReading package lists... 93%\r\rReading package lists... 94%\r\rReading package lists... 94%\r\rReading package lists... 95%\r\rReading package lists... 95%\r\rReading package lists... 98%\r\rReading package lists... 98%\r\rReading package lists... 98%\r\rReading package lists... 98%\r\rReading package lists... Done\r\n",
            "\rBuilding dependency tree... 0%\r\rBuilding dependency tree... 0%\r\rBuilding dependency tree... 50%\r\rBuilding dependency tree... 50%\r\rBuilding dependency tree       \r\n",
            "Reading state information... Done\n",
            "The following package was automatically installed and is no longer required:\n",
            "  libnvidia-common-440\n",
            "Use 'sudo apt autoremove' to remove it.\n",
            "The following NEW packages will be installed:\n",
            "  git-lfs\n",
            "0 upgraded, 1 newly installed, 0 to remove and 35 not upgraded.\n",
            "Need to get 2,129 kB of archives.\n",
            "After this operation, 7,662 kB of additional disk space will be used.\n",
            "Get:1 http://archive.ubuntu.com/ubuntu bionic/universe amd64 git-lfs amd64 2.3.4-1 [2,129 kB]\n",
            "Fetched 2,129 kB in 1s (2,043 kB/s)\n",
            "debconf: unable to initialize frontend: Dialog\n",
            "debconf: (No usable dialog-like program is installed, so the dialog based frontend cannot be used. at /usr/share/perl5/Debconf/FrontEnd/Dialog.pm line 76, <> line 1.)\n",
            "debconf: falling back to frontend: Readline\n",
            "debconf: unable to initialize frontend: Readline\n",
            "debconf: (This frontend requires a controlling tty.)\n",
            "debconf: falling back to frontend: Teletype\n",
            "dpkg-preconfigure: unable to re-open stdin: \n",
            "Selecting previously unselected package git-lfs.\n",
            "(Reading database ... 144487 files and directories currently installed.)\n",
            "Preparing to unpack .../git-lfs_2.3.4-1_amd64.deb ...\n",
            "Unpacking git-lfs (2.3.4-1) ...\n",
            "Setting up git-lfs (2.3.4-1) ...\n",
            "Processing triggers for man-db (2.8.3-2ubuntu0.1) ...\n"
          ],
          "name": "stdout"
        }
      ]
    },
    {
      "cell_type": "code",
      "metadata": {
        "id": "yEJK8QMxxQHP",
        "colab_type": "code",
        "colab": {
          "base_uri": "https://localhost:8080/",
          "height": 225
        },
        "outputId": "9f5b4ac2-d09f-427c-91fd-0c62c94b5680"
      },
      "source": [
        "!git-lfs clone https://github.com/officialpm/Face-Expression-Classification-CNN"
      ],
      "execution_count": 2,
      "outputs": [
        {
          "output_type": "stream",
          "text": [
            "WARNING: 'git lfs clone' is deprecated and will not be updated\n",
            "          with new flags from 'git clone'\n",
            "\n",
            "'git clone' has been updated in upstream Git to have comparable\n",
            "speeds to 'git lfs clone'.\n",
            "Cloning into 'Face-Expression-Classification-CNN'...\n",
            "remote: Enumerating objects: 34, done.\u001b[K\n",
            "remote: Counting objects:   2% (1/34)\u001b[K\rremote: Counting objects:   5% (2/34)\u001b[K\rremote: Counting objects:   8% (3/34)\u001b[K\rremote: Counting objects:  11% (4/34)\u001b[K\rremote: Counting objects:  14% (5/34)\u001b[K\rremote: Counting objects:  17% (6/34)\u001b[K\rremote: Counting objects:  20% (7/34)\u001b[K\rremote: Counting objects:  23% (8/34)\u001b[K\rremote: Counting objects:  26% (9/34)\u001b[K\rremote: Counting objects:  29% (10/34)\u001b[K\rremote: Counting objects:  32% (11/34)\u001b[K\rremote: Counting objects:  35% (12/34)\u001b[K\rremote: Counting objects:  38% (13/34)\u001b[K\rremote: Counting objects:  41% (14/34)\u001b[K\rremote: Counting objects:  44% (15/34)\u001b[K\rremote: Counting objects:  47% (16/34)\u001b[K\rremote: Counting objects:  50% (17/34)\u001b[K\rremote: Counting objects:  52% (18/34)\u001b[K\rremote: Counting objects:  55% (19/34)\u001b[K\rremote: Counting objects:  58% (20/34)\u001b[K\rremote: Counting objects:  61% (21/34)\u001b[K\rremote: Counting objects:  64% (22/34)\u001b[K\rremote: Counting objects:  67% (23/34)\u001b[K\rremote: Counting objects:  70% (24/34)\u001b[K\rremote: Counting objects:  73% (25/34)\u001b[K\rremote: Counting objects:  76% (26/34)\u001b[K\rremote: Counting objects:  79% (27/34)\u001b[K\rremote: Counting objects:  82% (28/34)\u001b[K\rremote: Counting objects:  85% (29/34)\u001b[K\rremote: Counting objects:  88% (30/34)\u001b[K\rremote: Counting objects:  91% (31/34)\u001b[K\rremote: Counting objects:  94% (32/34)\u001b[K\rremote: Counting objects:  97% (33/34)\u001b[K\rremote: Counting objects: 100% (34/34)\u001b[K\rremote: Counting objects: 100% (34/34), done.\u001b[K\n",
            "remote: Compressing objects: 100% (27/27), done.\u001b[K\n",
            "remote: Total 34 (delta 6), reused 29 (delta 4), pack-reused 0\u001b[K\n",
            "Unpacking objects: 100% (34/34), done.\n",
            "Git LFS: (1 of 1 files) 287.13 MB / 287.13 MB\n"
          ],
          "name": "stdout"
        }
      ]
    },
    {
      "cell_type": "code",
      "metadata": {
        "id": "qANFZZf9J_-X",
        "colab_type": "code",
        "colab": {}
      },
      "source": [
        "import tensorflow as tf\n",
        "import keras\n",
        "import numpy as np\n",
        "import pandas as pd\n",
        "import matplotlib.pyplot as plt\n",
        "import cv2\n",
        "from keras.utils import to_categorical\n",
        "from keras.models import Sequential\n",
        "from keras.preprocessing import image\n",
        "from keras.layers import Conv2D, MaxPooling2D, AveragePooling2D\n",
        "from keras.layers import Dense, Activation, Dropout, Flatten\n",
        "from keras.preprocessing.image import ImageDataGenerator\n",
        "from keras.callbacks import ModelCheckpoint,EarlyStopping\n",
        "from keras.optimizers import *\n",
        "from keras.layers.normalization import BatchNormalization\n",
        "base_path = \"Face-Expression-Classification-CNN\"\n",
        "%matplotlib inline"
      ],
      "execution_count": 3,
      "outputs": []
    },
    {
      "cell_type": "markdown",
      "metadata": {
        "id": "Zm0TBcixLc51",
        "colab_type": "text"
      },
      "source": [
        "### Check GPU"
      ]
    },
    {
      "cell_type": "code",
      "metadata": {
        "id": "4-c93eMlL86t",
        "colab_type": "code",
        "colab": {
          "base_uri": "https://localhost:8080/",
          "height": 35
        },
        "outputId": "99799ce9-5238-431c-b888-de50d0b3265b"
      },
      "source": [
        "# Check for GPU availability\n",
        "print(\"Hey Parth Maniar, GPU \", \"available :) !!\" if tf.config.list_physical_devices(\"GPU\") else \"not available :(\")"
      ],
      "execution_count": 4,
      "outputs": [
        {
          "output_type": "stream",
          "text": [
            "Hey Parth Maniar, GPU  available :) !!\n"
          ],
          "name": "stdout"
        }
      ]
    },
    {
      "cell_type": "markdown",
      "metadata": {
        "id": "HVvoT-rgRfzS",
        "colab_type": "text"
      },
      "source": [
        "##Data"
      ]
    },
    {
      "cell_type": "code",
      "metadata": {
        "id": "QaHZ2XHlRfZG",
        "colab_type": "code",
        "colab": {}
      },
      "source": [
        "raw_df = pd.read_csv(f\"{base_path}/Data/fer2013.csv\")"
      ],
      "execution_count": 5,
      "outputs": []
    },
    {
      "cell_type": "markdown",
      "metadata": {
        "id": "jh3bmA1DYssA",
        "colab_type": "text"
      },
      "source": [
        "## Creating Train and Test Datasets"
      ]
    },
    {
      "cell_type": "markdown",
      "metadata": {
        "id": "oi4kPRFFIk8n",
        "colab_type": "text"
      },
      "source": [
        "### Initialize the total number of classes"
      ]
    },
    {
      "cell_type": "code",
      "metadata": {
        "id": "s6kTKiJ6ekYz",
        "colab_type": "code",
        "colab": {}
      },
      "source": [
        "# Initialize the total number of classes\n",
        "num_classes = 7 #angry, disgust, fear, happy, sad, surprise, neutral"
      ],
      "execution_count": 6,
      "outputs": []
    },
    {
      "cell_type": "markdown",
      "metadata": {
        "id": "6V-VEHLQIs-s",
        "colab_type": "text"
      },
      "source": [
        "### Initialize training and test datasets"
      ]
    },
    {
      "cell_type": "code",
      "metadata": {
        "id": "shcMRfK6B4pA",
        "colab_type": "code",
        "colab": {}
      },
      "source": [
        "def getData(filname):\n",
        "    Y = []\n",
        "    X = []\n",
        "    first = True\n",
        "    for line in open(filname):\n",
        "        if first:\n",
        "            first = False\n",
        "        else:\n",
        "            row = line.split(',')\n",
        "            Y.append(int(row[0]))\n",
        "            X.append([int(p) for p in row[1].split()])\n",
        "\n",
        "    X, Y = np.array(X) / 255.0, np.array(Y) #NORMALIZE\n",
        "    return X, Y"
      ],
      "execution_count": 7,
      "outputs": []
    },
    {
      "cell_type": "code",
      "metadata": {
        "id": "tlDdAw1bB7ys",
        "colab_type": "code",
        "colab": {
          "base_uri": "https://localhost:8080/",
          "height": 35
        },
        "outputId": "8eb79143-fdf1-4943-9617-f8d39023dfc7"
      },
      "source": [
        "X, Y = getData(f\"{base_path}/Data/fer2013.csv\")\n",
        "num_class = len(set(Y))\n",
        "print(num_class)"
      ],
      "execution_count": 8,
      "outputs": [
        {
          "output_type": "stream",
          "text": [
            "7\n"
          ],
          "name": "stdout"
        }
      ]
    },
    {
      "cell_type": "code",
      "metadata": {
        "id": "T5DUH5UtCDKb",
        "colab_type": "code",
        "colab": {}
      },
      "source": [
        "N, D = X.shape\n",
        "X = X.reshape(N, 48, 48, 1)"
      ],
      "execution_count": 9,
      "outputs": []
    },
    {
      "cell_type": "code",
      "metadata": {
        "id": "c7MjE0M4CGaO",
        "colab_type": "code",
        "colab": {}
      },
      "source": [
        "from sklearn.model_selection import train_test_split\n",
        "\n",
        "X_train, X_test, y_train, y_test = train_test_split(X, Y, test_size=0.1, random_state=0)\n",
        "y_train = (np.arange(num_class) == y_train[:, None]).astype(np.float32)\n",
        "y_test = (np.arange(num_class) == y_test[:, None]).astype(np.float32)\n"
      ],
      "execution_count": 10,
      "outputs": []
    },
    {
      "cell_type": "markdown",
      "metadata": {
        "id": "YPgTvXVYI8j4",
        "colab_type": "text"
      },
      "source": [
        "### Reshape the inputs"
      ]
    },
    {
      "cell_type": "code",
      "metadata": {
        "id": "h2dv27RZi2xP",
        "colab_type": "code",
        "colab": {
          "base_uri": "https://localhost:8080/",
          "height": 52
        },
        "outputId": "345d7052-b022-4ae3-ba75-7b04190e4ad7"
      },
      "source": [
        "# Reshape each value from 1D(28709) to 3D(48,48,1)\n",
        "X_train = X_train.reshape(X_train.shape[0], 48, 48, 1)\n",
        "X_train = X_train.astype('float32')\n",
        "X_test = X_test.reshape(X_test.shape[0], 48, 48, 1)\n",
        "X_test = X_test.astype('float32')\n",
        "\n",
        "print(X_train.shape[0], 'train samples')\n",
        "print(X_test.shape[0], 'test samples')"
      ],
      "execution_count": 11,
      "outputs": [
        {
          "output_type": "stream",
          "text": [
            "32298 train samples\n",
            "3589 test samples\n"
          ],
          "name": "stdout"
        }
      ]
    },
    {
      "cell_type": "code",
      "metadata": {
        "id": "HyOGOtmqi4i5",
        "colab_type": "code",
        "colab": {
          "base_uri": "https://localhost:8080/",
          "height": 35
        },
        "outputId": "709ec75f-802b-4e4d-98bf-34cbe4124d93"
      },
      "source": [
        "X_train.shape"
      ],
      "execution_count": 12,
      "outputs": [
        {
          "output_type": "execute_result",
          "data": {
            "text/plain": [
              "(32298, 48, 48, 1)"
            ]
          },
          "metadata": {
            "tags": []
          },
          "execution_count": 12
        }
      ]
    },
    {
      "cell_type": "markdown",
      "metadata": {
        "id": "KJ7j8VxXv1jL",
        "colab_type": "text"
      },
      "source": [
        "## Construct a CNN (Convolutional Neural Network)\n",
        "\n",
        "Here we can start with Keras-Sequential as our base model.\n",
        "https://keras.io/api/models/sequential/"
      ]
    },
    {
      "cell_type": "markdown",
      "metadata": {
        "id": "kOFXWrboRTq0",
        "colab_type": "text"
      },
      "source": [
        "### Create a model"
      ]
    },
    {
      "cell_type": "code",
      "metadata": {
        "id": "4jL3egjCvA5w",
        "colab_type": "code",
        "colab": {}
      },
      "source": [
        "width, height = 48, 48\n",
        "batch_size = 64\n",
        "num_features = 64"
      ],
      "execution_count": 13,
      "outputs": []
    },
    {
      "cell_type": "code",
      "metadata": {
        "id": "zlMdNQoVKcfd",
        "colab_type": "code",
        "colab": {
          "base_uri": "https://localhost:8080/",
          "height": 1000
        },
        "outputId": "12c859b0-496a-468f-95ee-42889431ca95"
      },
      "source": [
        "model = Sequential()\n",
        "\n",
        "# 1st Convolutional Layer \n",
        "model.add(Conv2D(256, kernel_size=(3, 3), input_shape=(width, height, 1), data_format='channels_last'))\n",
        "model.add(BatchNormalization())\n",
        "model.add(Activation('relu'))\n",
        "# 2nd Convolutional Layer \n",
        "model.add(Conv2D(256, kernel_size=(3, 3), padding='same'))\n",
        "model.add(BatchNormalization())\n",
        "model.add(Activation('relu'))\n",
        "model.add(MaxPooling2D(pool_size=(2, 2), strides=(2, 2)))\n",
        "\n",
        "# 3rd Convolutional Layer \n",
        "model.add(Conv2D(128, kernel_size=(3, 3), padding='same'))\n",
        "model.add(BatchNormalization())\n",
        "model.add(Activation('relu'))\n",
        "\n",
        "# 4th Convolutional Layer \n",
        "model.add(Conv2D(128, kernel_size=(3, 3), padding='same'))\n",
        "model.add(BatchNormalization())\n",
        "model.add(Activation('relu'))\n",
        "model.add(MaxPooling2D(pool_size=(2, 2), strides=(2, 2)))\n",
        "\n",
        "# 5th Convolutional Layer \n",
        "model.add(Conv2D(64, kernel_size=(3, 3), padding='same'))\n",
        "model.add(BatchNormalization())\n",
        "model.add(Activation('relu'))\n",
        "\n",
        "# 6th Convolutional Layer \n",
        "model.add(Conv2D(64, kernel_size=(3, 3), padding='same'))\n",
        "model.add(BatchNormalization())\n",
        "model.add(Activation('relu'))\n",
        "model.add(MaxPooling2D(pool_size=(2, 2), strides=(2, 2)))\n",
        "\n",
        "#flatten\n",
        "model.add(Flatten())\n",
        "\n",
        "#1st Dense Layer\n",
        "model.add(Dense(512))\n",
        "model.add(BatchNormalization())\n",
        "model.add(Activation('relu'))\n",
        "\n",
        "#2nd Dense Layer\n",
        "model.add(Dense(256))\n",
        "model.add(BatchNormalization())\n",
        "model.add(Activation('relu'))\n",
        "\n",
        "#3rd Dense Layer\n",
        "model.add(Dense(128))\n",
        "model.add(BatchNormalization())\n",
        "model.add(Activation('relu'))\n",
        "\n",
        "#Output\n",
        "model.add(Dense(num_classes, activation='softmax'))\n",
        "\n",
        "model.compile(loss='categorical_crossentropy', \n",
        "              optimizer=Adam(lr=0.001, beta_1=0.9, beta_2=0.999, epsilon=1e-7), \n",
        "              metrics=['accuracy'])\n",
        "\n",
        "model.summary()"
      ],
      "execution_count": 14,
      "outputs": [
        {
          "output_type": "stream",
          "text": [
            "Model: \"sequential\"\n",
            "_________________________________________________________________\n",
            "Layer (type)                 Output Shape              Param #   \n",
            "=================================================================\n",
            "conv2d (Conv2D)              (None, 46, 46, 256)       2560      \n",
            "_________________________________________________________________\n",
            "batch_normalization (BatchNo (None, 46, 46, 256)       1024      \n",
            "_________________________________________________________________\n",
            "activation (Activation)      (None, 46, 46, 256)       0         \n",
            "_________________________________________________________________\n",
            "conv2d_1 (Conv2D)            (None, 46, 46, 256)       590080    \n",
            "_________________________________________________________________\n",
            "batch_normalization_1 (Batch (None, 46, 46, 256)       1024      \n",
            "_________________________________________________________________\n",
            "activation_1 (Activation)    (None, 46, 46, 256)       0         \n",
            "_________________________________________________________________\n",
            "max_pooling2d (MaxPooling2D) (None, 23, 23, 256)       0         \n",
            "_________________________________________________________________\n",
            "conv2d_2 (Conv2D)            (None, 23, 23, 128)       295040    \n",
            "_________________________________________________________________\n",
            "batch_normalization_2 (Batch (None, 23, 23, 128)       512       \n",
            "_________________________________________________________________\n",
            "activation_2 (Activation)    (None, 23, 23, 128)       0         \n",
            "_________________________________________________________________\n",
            "conv2d_3 (Conv2D)            (None, 23, 23, 128)       147584    \n",
            "_________________________________________________________________\n",
            "batch_normalization_3 (Batch (None, 23, 23, 128)       512       \n",
            "_________________________________________________________________\n",
            "activation_3 (Activation)    (None, 23, 23, 128)       0         \n",
            "_________________________________________________________________\n",
            "max_pooling2d_1 (MaxPooling2 (None, 11, 11, 128)       0         \n",
            "_________________________________________________________________\n",
            "conv2d_4 (Conv2D)            (None, 11, 11, 64)        73792     \n",
            "_________________________________________________________________\n",
            "batch_normalization_4 (Batch (None, 11, 11, 64)        256       \n",
            "_________________________________________________________________\n",
            "activation_4 (Activation)    (None, 11, 11, 64)        0         \n",
            "_________________________________________________________________\n",
            "conv2d_5 (Conv2D)            (None, 11, 11, 64)        36928     \n",
            "_________________________________________________________________\n",
            "batch_normalization_5 (Batch (None, 11, 11, 64)        256       \n",
            "_________________________________________________________________\n",
            "activation_5 (Activation)    (None, 11, 11, 64)        0         \n",
            "_________________________________________________________________\n",
            "max_pooling2d_2 (MaxPooling2 (None, 5, 5, 64)          0         \n",
            "_________________________________________________________________\n",
            "flatten (Flatten)            (None, 1600)              0         \n",
            "_________________________________________________________________\n",
            "dense (Dense)                (None, 512)               819712    \n",
            "_________________________________________________________________\n",
            "batch_normalization_6 (Batch (None, 512)               2048      \n",
            "_________________________________________________________________\n",
            "activation_6 (Activation)    (None, 512)               0         \n",
            "_________________________________________________________________\n",
            "dense_1 (Dense)              (None, 256)               131328    \n",
            "_________________________________________________________________\n",
            "batch_normalization_7 (Batch (None, 256)               1024      \n",
            "_________________________________________________________________\n",
            "activation_7 (Activation)    (None, 256)               0         \n",
            "_________________________________________________________________\n",
            "dense_2 (Dense)              (None, 128)               32896     \n",
            "_________________________________________________________________\n",
            "batch_normalization_8 (Batch (None, 128)               512       \n",
            "_________________________________________________________________\n",
            "activation_8 (Activation)    (None, 128)               0         \n",
            "_________________________________________________________________\n",
            "dense_3 (Dense)              (None, 7)                 903       \n",
            "=================================================================\n",
            "Total params: 2,137,991\n",
            "Trainable params: 2,134,407\n",
            "Non-trainable params: 3,584\n",
            "_________________________________________________________________\n"
          ],
          "name": "stdout"
        }
      ]
    },
    {
      "cell_type": "markdown",
      "metadata": {
        "id": "PO6kKBNxvoms",
        "colab_type": "text"
      },
      "source": [
        "## Adding Early Stopping"
      ]
    },
    {
      "cell_type": "code",
      "metadata": {
        "id": "GUFN33Rhvra4",
        "colab_type": "code",
        "colab": {}
      },
      "source": [
        "es = EarlyStopping(monitor='val_loss', patience = 10, mode = 'min', restore_best_weights=True)"
      ],
      "execution_count": 15,
      "outputs": []
    },
    {
      "cell_type": "markdown",
      "metadata": {
        "id": "X3v68GRqv40z",
        "colab_type": "text"
      },
      "source": [
        "## Batch Wise Data"
      ]
    },
    {
      "cell_type": "code",
      "metadata": {
        "id": "pLC5VBY_v8WN",
        "colab_type": "code",
        "colab": {}
      },
      "source": [
        "data_generator = ImageDataGenerator(\n",
        "                        featurewise_center=False,\n",
        "                        featurewise_std_normalization=False,\n",
        "                        rotation_range=10,\n",
        "                        width_shift_range=0.1,\n",
        "                        height_shift_range=0.1,\n",
        "                        zoom_range=.1,\n",
        "                        horizontal_flip=True)"
      ],
      "execution_count": 16,
      "outputs": []
    },
    {
      "cell_type": "code",
      "metadata": {
        "id": "70hbeUT5wJCI",
        "colab_type": "code",
        "colab": {}
      },
      "source": [
        "dataGEN = data_generator.flow(X_train, y_train, batch_size)"
      ],
      "execution_count": 17,
      "outputs": []
    },
    {
      "cell_type": "markdown",
      "metadata": {
        "id": "niuAbpGVRWSW",
        "colab_type": "text"
      },
      "source": [
        "## Fit the model"
      ]
    },
    {
      "cell_type": "code",
      "metadata": {
        "id": "wm19dT1KWbfw",
        "colab_type": "code",
        "colab": {}
      },
      "source": [
        "# Assign number of epochs\n",
        "epochs = 70 #@param{type:\"slider\", min:0, max:250, step:10}"
      ],
      "execution_count": 19,
      "outputs": []
    },
    {
      "cell_type": "code",
      "metadata": {
        "id": "5R7BnWLxXCrh",
        "colab_type": "code",
        "colab": {
          "base_uri": "https://localhost:8080/",
          "height": 1000
        },
        "outputId": "0de5fdb5-c919-4412-e8cf-c10245c6a122"
      },
      "source": [
        "modelPath=f'{base_path}/Models/Face_Expression_Classfication_v2_model.h5' # save model at this location after each epoch\n",
        "history = model.fit_generator(  dataGEN,\n",
        "                                steps_per_epoch=len(X_train) / batch_size,\n",
        "                                epochs=epochs,\n",
        "                                verbose=1, \n",
        "                                callbacks = [es, ModelCheckpoint(filepath=modelPath)],\n",
        "                                validation_data=(X_test,y_test))"
      ],
      "execution_count": 20,
      "outputs": [
        {
          "output_type": "stream",
          "text": [
            "WARNING:tensorflow:From <ipython-input-20-4d3de8a8f1bf>:7: Model.fit_generator (from tensorflow.python.keras.engine.training) is deprecated and will be removed in a future version.\n",
            "Instructions for updating:\n",
            "Please use Model.fit, which supports generators.\n",
            "Epoch 1/70\n",
            "  2/504 [..............................] - ETA: 47s - loss: 2.1134 - accuracy: 0.2500WARNING:tensorflow:Callbacks method `on_train_batch_end` is slow compared to the batch time (batch time: 0.0757s vs `on_train_batch_end` time: 0.1148s). Check your callbacks.\n",
            "505/504 [==============================] - 97s 193ms/step - loss: 1.6765 - accuracy: 0.3316 - val_loss: 1.7100 - val_accuracy: 0.3004\n",
            "Epoch 2/70\n",
            "505/504 [==============================] - 95s 188ms/step - loss: 1.3743 - accuracy: 0.4716 - val_loss: 1.5100 - val_accuracy: 0.3979\n",
            "Epoch 3/70\n",
            "505/504 [==============================] - 95s 188ms/step - loss: 1.2331 - accuracy: 0.5286 - val_loss: 1.1991 - val_accuracy: 0.5313\n",
            "Epoch 4/70\n",
            "505/504 [==============================] - 95s 188ms/step - loss: 1.1593 - accuracy: 0.5603 - val_loss: 1.2123 - val_accuracy: 0.5213\n",
            "Epoch 5/70\n",
            "505/504 [==============================] - 95s 188ms/step - loss: 1.1037 - accuracy: 0.5812 - val_loss: 1.4739 - val_accuracy: 0.4483\n",
            "Epoch 6/70\n",
            "505/504 [==============================] - 95s 188ms/step - loss: 1.0734 - accuracy: 0.5926 - val_loss: 1.0348 - val_accuracy: 0.6127\n",
            "Epoch 7/70\n",
            "505/504 [==============================] - 95s 188ms/step - loss: 1.0464 - accuracy: 0.6013 - val_loss: 1.0383 - val_accuracy: 0.6147\n",
            "Epoch 8/70\n",
            "505/504 [==============================] - 95s 188ms/step - loss: 1.0173 - accuracy: 0.6171 - val_loss: 1.0925 - val_accuracy: 0.5871\n",
            "Epoch 9/70\n",
            "505/504 [==============================] - 95s 188ms/step - loss: 0.9923 - accuracy: 0.6255 - val_loss: 1.1144 - val_accuracy: 0.5999\n",
            "Epoch 10/70\n",
            "505/504 [==============================] - 95s 188ms/step - loss: 0.9717 - accuracy: 0.6322 - val_loss: 1.1458 - val_accuracy: 0.5770\n",
            "Epoch 11/70\n",
            "505/504 [==============================] - 95s 188ms/step - loss: 0.9521 - accuracy: 0.6383 - val_loss: 1.0752 - val_accuracy: 0.5974\n",
            "Epoch 12/70\n",
            "505/504 [==============================] - 95s 188ms/step - loss: 0.9390 - accuracy: 0.6454 - val_loss: 1.1853 - val_accuracy: 0.5840\n",
            "Epoch 13/70\n",
            "505/504 [==============================] - 95s 188ms/step - loss: 0.9188 - accuracy: 0.6520 - val_loss: 1.0122 - val_accuracy: 0.6339\n",
            "Epoch 14/70\n",
            "505/504 [==============================] - 95s 188ms/step - loss: 0.9038 - accuracy: 0.6596 - val_loss: 0.9786 - val_accuracy: 0.6344\n",
            "Epoch 15/70\n",
            "505/504 [==============================] - 95s 187ms/step - loss: 0.8899 - accuracy: 0.6654 - val_loss: 0.9943 - val_accuracy: 0.6291\n",
            "Epoch 16/70\n",
            "505/504 [==============================] - 95s 187ms/step - loss: 0.8766 - accuracy: 0.6702 - val_loss: 1.0300 - val_accuracy: 0.6183\n",
            "Epoch 17/70\n",
            "505/504 [==============================] - 95s 188ms/step - loss: 0.8625 - accuracy: 0.6761 - val_loss: 1.0069 - val_accuracy: 0.6297\n",
            "Epoch 18/70\n",
            "505/504 [==============================] - 95s 188ms/step - loss: 0.8470 - accuracy: 0.6825 - val_loss: 0.9746 - val_accuracy: 0.6484\n",
            "Epoch 19/70\n",
            "505/504 [==============================] - 95s 187ms/step - loss: 0.8369 - accuracy: 0.6847 - val_loss: 1.1170 - val_accuracy: 0.6266\n",
            "Epoch 20/70\n",
            "505/504 [==============================] - 95s 187ms/step - loss: 0.8215 - accuracy: 0.6944 - val_loss: 0.9491 - val_accuracy: 0.6495\n",
            "Epoch 21/70\n",
            "505/504 [==============================] - 95s 187ms/step - loss: 0.8058 - accuracy: 0.6964 - val_loss: 0.9442 - val_accuracy: 0.6512\n",
            "Epoch 22/70\n",
            "505/504 [==============================] - 95s 188ms/step - loss: 0.7961 - accuracy: 0.7015 - val_loss: 0.9298 - val_accuracy: 0.6592\n",
            "Epoch 23/70\n",
            "505/504 [==============================] - 95s 188ms/step - loss: 0.7818 - accuracy: 0.7052 - val_loss: 0.9550 - val_accuracy: 0.6592\n",
            "Epoch 24/70\n",
            "505/504 [==============================] - 95s 187ms/step - loss: 0.7672 - accuracy: 0.7119 - val_loss: 0.9729 - val_accuracy: 0.6559\n",
            "Epoch 25/70\n",
            "505/504 [==============================] - 95s 188ms/step - loss: 0.7531 - accuracy: 0.7196 - val_loss: 0.9912 - val_accuracy: 0.6422\n",
            "Epoch 26/70\n",
            "505/504 [==============================] - 95s 188ms/step - loss: 0.7446 - accuracy: 0.7208 - val_loss: 0.9478 - val_accuracy: 0.6562\n",
            "Epoch 27/70\n",
            "505/504 [==============================] - 95s 188ms/step - loss: 0.7303 - accuracy: 0.7245 - val_loss: 0.9481 - val_accuracy: 0.6631\n",
            "Epoch 28/70\n",
            "505/504 [==============================] - 95s 188ms/step - loss: 0.7210 - accuracy: 0.7298 - val_loss: 1.0483 - val_accuracy: 0.6408\n",
            "Epoch 29/70\n",
            "505/504 [==============================] - 95s 188ms/step - loss: 0.7032 - accuracy: 0.7378 - val_loss: 1.0342 - val_accuracy: 0.6381\n",
            "Epoch 30/70\n",
            "505/504 [==============================] - 95s 188ms/step - loss: 0.7019 - accuracy: 0.7358 - val_loss: 0.9575 - val_accuracy: 0.6748\n",
            "Epoch 31/70\n",
            "505/504 [==============================] - 95s 187ms/step - loss: 0.6890 - accuracy: 0.7416 - val_loss: 0.9798 - val_accuracy: 0.6729\n",
            "Epoch 32/70\n",
            "505/504 [==============================] - 95s 188ms/step - loss: 0.6817 - accuracy: 0.7458 - val_loss: 0.9779 - val_accuracy: 0.6704\n"
          ],
          "name": "stdout"
        }
      ]
    },
    {
      "cell_type": "markdown",
      "metadata": {
        "id": "JSuTd2MfZiKS",
        "colab_type": "text"
      },
      "source": [
        "## Load the saved model\n",
        "\n",
        "We can load the model in two ways:\n",
        "* Using Keras `load_model()`\n",
        "* Using Pickle `load()`\n",
        "\n",
        "The loaded model can be directly used of prediction."
      ]
    },
    {
      "cell_type": "code",
      "metadata": {
        "id": "y8JlQMjzhPSp",
        "colab_type": "code",
        "colab": {}
      },
      "source": [
        "import pickle\n",
        "\n",
        "# Load a model using Keras or Pickle\n",
        "\n",
        "def load_model(load_method='Keras'):\n",
        "  model = None\n",
        "  if load_method == 'Keras':\n",
        "    # Method 1: Using Keras\n",
        "    model = keras.models.load_model(modelPath)\n",
        "  elif load_method == 'Pickle':\n",
        "    # Method 2: Using Pickle\n",
        "    with open(modelPath, 'rb') as f:\n",
        "      model = pickle.load(f)\n",
        "  \n",
        "  print(\"Model Loaded.\")\n",
        "  return model"
      ],
      "execution_count": 21,
      "outputs": []
    },
    {
      "cell_type": "code",
      "metadata": {
        "id": "9CePRt3Yaizg",
        "colab_type": "code",
        "colab": {
          "base_uri": "https://localhost:8080/",
          "height": 35
        },
        "outputId": "b858b849-62e2-4953-cc16-59beda71c27c"
      },
      "source": [
        "loaded_model = load_model(load_method='Keras')"
      ],
      "execution_count": 22,
      "outputs": [
        {
          "output_type": "stream",
          "text": [
            "Model Loaded.\n"
          ],
          "name": "stdout"
        }
      ]
    },
    {
      "cell_type": "markdown",
      "metadata": {
        "id": "bIBSIRrwaz77",
        "colab_type": "text"
      },
      "source": [
        "## Evaluate the trained model\n",
        "\n",
        "Use the `evaluate()` method to evalute the trained model against train and test dataset"
      ]
    },
    {
      "cell_type": "code",
      "metadata": {
        "id": "TIjNDbJNb_Sb",
        "colab_type": "code",
        "colab": {
          "base_uri": "https://localhost:8080/",
          "height": 121
        },
        "outputId": "37019ad4-8927-4cb5-fde5-f783119abb12"
      },
      "source": [
        "train_score = loaded_model.evaluate(X_train, y_train, verbose=1)\n",
        "print(f\"Train loss : {train_score[0]}\")\n",
        "print(f\"Train accuracy : {train_score[1]}\")\n",
        "test_score = loaded_model.evaluate(X_test, y_test, verbose=1)\n",
        "print(f\"Test loss : {test_score[0]}\")\n",
        "print(f\"Test accuracy : {test_score[1]}\")"
      ],
      "execution_count": 23,
      "outputs": [
        {
          "output_type": "stream",
          "text": [
            "1010/1010 [==============================] - 32s 32ms/step - loss: 0.6945 - accuracy: 0.7375\n",
            "Train loss : 0.694532036781311\n",
            "Train accuracy : 0.7374759912490845\n",
            "113/113 [==============================] - 4s 31ms/step - loss: 0.9298 - accuracy: 0.6592\n",
            "Test loss : 0.9297972321510315\n",
            "Test accuracy : 0.6592365503311157\n"
          ],
          "name": "stdout"
        }
      ]
    },
    {
      "cell_type": "markdown",
      "metadata": {
        "id": "yD-cfIRo2o5g",
        "colab_type": "text"
      },
      "source": [
        "### Function to analyze and plot the prediction results"
      ]
    },
    {
      "cell_type": "code",
      "metadata": {
        "id": "w1rye7DA3rRi",
        "colab_type": "code",
        "colab": {}
      },
      "source": [
        "def analyze_emotion(emotions):\n",
        "  label_values = ['angry', 'disgust', 'fear', 'happy', 'sad', 'surprise', 'neutral']\n",
        "  y_seq = np.arange(len(label_values))\n",
        "  fig, ax = plt.subplots()\n",
        "  ax.bar(y_seq, emotions, align='center', alpha=0.5)\n",
        "  ax.set_xticks(y_seq)\n",
        "  ax.set_xticklabels(label_values, color='black')\n",
        "  ax.set_ylabel(\"Percentage\", color='black')\n",
        "  ax.set_title(\"Emotion\", color='black')\n",
        "  plt.show()"
      ],
      "execution_count": 24,
      "outputs": []
    },
    {
      "cell_type": "markdown",
      "metadata": {
        "id": "RIMfY9c5O-Vv",
        "colab_type": "text"
      },
      "source": [
        "### Confusion Matrix\n",
        "\n",
        "Plotting a confusin matrix between predicted labels and truth(ground) labels"
      ]
    },
    {
      "cell_type": "code",
      "metadata": {
        "id": "h2bxHzXuPSHO",
        "colab_type": "code",
        "colab": {
          "base_uri": "https://localhost:8080/",
          "height": 375
        },
        "outputId": "be91a33b-94f1-4fc4-fe3c-40a465a08802"
      },
      "source": [
        "from sklearn.metrics import confusion_matrix\n",
        "import seaborn as sn\n",
        "\n",
        "label_names = ['angry', 'disgust', 'fear', 'happy', 'sad', 'surprise', 'neutral']\n",
        "label_values = [0,1,2,3,4,5,6]\n",
        "\n",
        "# Make a predictions predictions list\n",
        "y_preds = loaded_model.predict(X_test)\n",
        "y_preds_mod, y_test_mod = [], []\n",
        "\n",
        "for pred in y_preds:\n",
        "  y_preds_mod.append(np.argmax(pred))\n",
        "\n",
        "for truth in y_test:\n",
        "  y_test_mod.append(np.argmax(truth))\n",
        "\n",
        "# Create a confusion matrix\n",
        "cm = confusion_matrix(y_test_mod, y_preds_mod, labels=label_values)\n",
        "\n",
        "# Visualize the confusion matrix using Seaborn heatmap\n",
        "df_cm = pd.DataFrame(cm,\n",
        "                     index=label_names,\n",
        "                     columns=label_names)\n",
        "plt.figure(figsize=(10,5))\n",
        "sn.heatmap(df_cm, annot=True, fmt='g');"
      ],
      "execution_count": 25,
      "outputs": [
        {
          "output_type": "stream",
          "text": [
            "/usr/local/lib/python3.6/dist-packages/statsmodels/tools/_testing.py:19: FutureWarning: pandas.util.testing is deprecated. Use the functions in the public API at pandas.testing instead.\n",
            "  import pandas.util.testing as tm\n"
          ],
          "name": "stderr"
        },
        {
          "output_type": "display_data",
          "data": {
            "image/png": "[encoded data removed]",
            "text/plain": [
              "<Figure size 720x360 with 2 Axes>"
            ]
          },
          "metadata": {
            "tags": [],
            "needs_background": "light"
          }
        }
      ]
    },
    {
      "cell_type": "markdown",
      "metadata": {
        "id": "k6CfRG9L6rEo",
        "colab_type": "text"
      },
      "source": [
        "## Testing with custom (external) data\n"
      ]
    },
    {
      "cell_type": "code",
      "metadata": {
        "id": "Xhnzfg41w7jL",
        "colab_type": "code",
        "colab": {
          "base_uri": "https://localhost:8080/",
          "height": 600
        },
        "outputId": "db23a33d-3143-4ccd-eea7-f0b314b1a743"
      },
      "source": [
        "file = f\"{base_path}/Data/Images/45627498.jpg\"\n",
        "actual_image = image.load_img(file)\n",
        "img = image.load_img(file, color_mode='grayscale', target_size=(48,48))\n",
        "\n",
        "X_custom = image.img_to_array(img)\n",
        "X_custom = np.expand_dims(X_custom, axis=0)\n",
        "\n",
        "X_custom /= 255\n",
        "\n",
        "y_custom = loaded_model.predict(X_custom)\n",
        "\n",
        "m=0.000000000000000000001\n",
        "a=y_custom[0]\n",
        "for i in range(0,len(a)):\n",
        "    if a[i]>m:\n",
        "        m=a[i]\n",
        "        ind=i\n",
        "\n",
        "fig, ax = plt.subplots(figsize=(10,5))\n",
        "ax.imshow(actual_image)\n",
        "ax.set_title(f'Face - {label_names[ind]}');\n",
        "\n",
        "analyze_emotion(y_custom[0])"
      ],
      "execution_count": 26,
      "outputs": [
        {
          "output_type": "display_data",
          "data": {
            "image/png": "[encoded data removed]",
            "text/plain": [
              "<Figure size 720x360 with 1 Axes>"
            ]
          },
          "metadata": {
            "tags": [],
            "needs_background": "light"
          }
        },
        {
          "output_type": "display_data",
          "data": {
            "image/png": "[encoded data removed]",
            "text/plain": [
              "<Figure size 432x288 with 1 Axes>"
            ]
          },
          "metadata": {
            "tags": [],
            "needs_background": "light"
          }
        }
      ]
    }
  ]
}